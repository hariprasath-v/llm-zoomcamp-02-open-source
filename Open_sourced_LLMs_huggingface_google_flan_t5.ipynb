{
 "cells": [
  {
   "cell_type": "markdown",
   "id": "72ac896d-4b28-4761-b255-c98e2670612d",
   "metadata": {
    "execution": {
     "iopub.execute_input": "2024-07-04T13:39:32.591366Z",
     "iopub.status.busy": "2024-07-04T13:39:32.590980Z",
     "iopub.status.idle": "2024-07-04T13:39:32.595232Z",
     "shell.execute_reply": "2024-07-04T13:39:32.594397Z",
     "shell.execute_reply.started": "2024-07-04T13:39:32.591329Z"
    },
    "tags": []
   },
   "source": [
    "### Import necessary libraries and packages"
   ]
  },
  {
   "cell_type": "code",
   "execution_count": 2,
   "id": "08fb0e75-767c-4310-a270-e8081e394cc2",
   "metadata": {
    "execution": {
     "iopub.execute_input": "2024-07-04T13:40:11.971419Z",
     "iopub.status.busy": "2024-07-04T13:40:11.971050Z",
     "iopub.status.idle": "2024-07-04T13:40:15.137226Z",
     "shell.execute_reply": "2024-07-04T13:40:15.136389Z",
     "shell.execute_reply.started": "2024-07-04T13:40:11.971393Z"
    },
    "tags": []
   },
   "outputs": [
    {
     "name": "stdout",
     "output_type": "stream",
     "text": [
      "Note: you may need to restart the kernel to use updated packages.\n"
     ]
    }
   ],
   "source": [
    "pip install -U transformers accelerate bitsandbytes -qq"
   ]
  },
  {
   "cell_type": "markdown",
   "id": "3a9fde1f-52d7-4b2f-a0cd-b908b06f0eb8",
   "metadata": {
    "execution": {
     "iopub.execute_input": "2024-07-04T13:41:01.281272Z",
     "iopub.status.busy": "2024-07-04T13:41:01.280872Z",
     "iopub.status.idle": "2024-07-04T13:41:01.284623Z",
     "shell.execute_reply": "2024-07-04T13:41:01.283966Z",
     "shell.execute_reply.started": "2024-07-04T13:41:01.281246Z"
    },
    "tags": []
   },
   "source": [
    "#### Change the hugging face home directory to save the model"
   ]
  },
  {
   "cell_type": "code",
   "execution_count": 4,
   "id": "f0d80baf-6e1b-4451-9d6d-89cf4808f08c",
   "metadata": {
    "execution": {
     "iopub.execute_input": "2024-07-04T13:41:12.494826Z",
     "iopub.status.busy": "2024-07-04T13:41:12.494436Z",
     "iopub.status.idle": "2024-07-04T13:41:12.498527Z",
     "shell.execute_reply": "2024-07-04T13:41:12.497742Z",
     "shell.execute_reply.started": "2024-07-04T13:41:12.494799Z"
    },
    "tags": []
   },
   "outputs": [],
   "source": [
    "import os\n",
    "os.environ['HF_HOME'] = '/run/cache/'"
   ]
  },
  {
   "cell_type": "markdown",
   "id": "3db7cc58-b6fe-4b87-9c17-0cd131719066",
   "metadata": {
    "execution": {
     "iopub.execute_input": "2024-07-04T13:42:17.821925Z",
     "iopub.status.busy": "2024-07-04T13:42:17.821572Z",
     "iopub.status.idle": "2024-07-04T13:42:17.825301Z",
     "shell.execute_reply": "2024-07-04T13:42:17.824510Z",
     "shell.execute_reply.started": "2024-07-04T13:42:17.821899Z"
    },
    "tags": []
   },
   "source": [
    "#### Get file from LLM zoomcamp course repo"
   ]
  },
  {
   "cell_type": "code",
   "execution_count": 6,
   "id": "160e9a45-f4b6-4d1b-8b8b-f29faecfb8dd",
   "metadata": {
    "execution": {
     "iopub.execute_input": "2024-07-04T13:42:26.541650Z",
     "iopub.status.busy": "2024-07-04T13:42:26.541288Z",
     "iopub.status.idle": "2024-07-04T13:42:27.843081Z",
     "shell.execute_reply": "2024-07-04T13:42:27.842370Z",
     "shell.execute_reply.started": "2024-07-04T13:42:26.541625Z"
    },
    "tags": []
   },
   "outputs": [
    {
     "name": "stdout",
     "output_type": "stream",
     "text": [
      "--2024-07-04 13:42:27--  https://raw.githubusercontent.com/alexeygrigorev/minsearch/main/minsearch.py\n",
      "Resolving raw.githubusercontent.com (raw.githubusercontent.com)... 185.199.111.133, 185.199.110.133, 185.199.108.133, ...\n",
      "Connecting to raw.githubusercontent.com (raw.githubusercontent.com)|185.199.111.133|:443... connected.\n",
      "HTTP request sent, awaiting response... 200 OK\n",
      "Length: 3832 (3.7K) [text/plain]\n",
      "Saving to: ‘minsearch.py’\n",
      "\n",
      "minsearch.py        100%[===================>]   3.74K  --.-KB/s    in 0s      \n",
      "\n",
      "2024-07-04 13:42:27 (85.9 MB/s) - ‘minsearch.py’ saved [3832/3832]\n",
      "\n"
     ]
    }
   ],
   "source": [
    "!rm -f minsearch.py\n",
    "!wget https://raw.githubusercontent.com/alexeygrigorev/minsearch/main/minsearch.py"
   ]
  },
  {
   "cell_type": "markdown",
   "id": "64a1301b-4cf3-499a-84be-598bd9899bc4",
   "metadata": {
    "execution": {
     "iopub.execute_input": "2024-07-04T13:46:44.964472Z",
     "iopub.status.busy": "2024-07-04T13:46:44.964095Z",
     "iopub.status.idle": "2024-07-04T13:46:44.968066Z",
     "shell.execute_reply": "2024-07-04T13:46:44.967324Z",
     "shell.execute_reply.started": "2024-07-04T13:46:44.964445Z"
    },
    "tags": []
   },
   "source": [
    "#### Get json file from course repo and create TF-IDF"
   ]
  },
  {
   "cell_type": "code",
   "execution_count": 8,
   "id": "68bde387-b932-43be-9e91-96ef608cf9de",
   "metadata": {
    "execution": {
     "iopub.execute_input": "2024-07-04T13:46:50.796545Z",
     "iopub.status.busy": "2024-07-04T13:46:50.796174Z",
     "iopub.status.idle": "2024-07-04T13:46:53.921407Z",
     "shell.execute_reply": "2024-07-04T13:46:53.920678Z",
     "shell.execute_reply.started": "2024-07-04T13:46:50.796520Z"
    },
    "tags": []
   },
   "outputs": [
    {
     "data": {
      "text/plain": [
       "<minsearch.Index at 0x7f2dac7c01f0>"
      ]
     },
     "execution_count": 8,
     "metadata": {},
     "output_type": "execute_result"
    }
   ],
   "source": [
    "import requests \n",
    "import minsearch\n",
    "\n",
    "docs_url = 'https://github.com/DataTalksClub/llm-zoomcamp/blob/main/01-intro/documents.json?raw=1'\n",
    "docs_response = requests.get(docs_url)\n",
    "documents_raw = docs_response.json()\n",
    "\n",
    "documents = []\n",
    "\n",
    "for course in documents_raw:\n",
    "    course_name = course['course']\n",
    "\n",
    "    for doc in course['documents']:\n",
    "        doc['course'] = course_name\n",
    "        documents.append(doc)\n",
    "\n",
    "index = minsearch.Index(\n",
    "    text_fields=[\"question\", \"text\", \"section\"],\n",
    "    keyword_fields=[\"course\"]\n",
    ")\n",
    "\n",
    "index.fit(documents)"
   ]
  },
  {
   "cell_type": "markdown",
   "id": "1d7ea116-f5a2-42ea-9136-9848cd28a76c",
   "metadata": {},
   "source": [
    "#### search query based on cosine-similarity"
   ]
  },
  {
   "cell_type": "code",
   "execution_count": 9,
   "id": "70a4fc2a-7c70-4f29-b46d-448081f89c59",
   "metadata": {
    "execution": {
     "iopub.execute_input": "2024-07-04T13:47:25.270911Z",
     "iopub.status.busy": "2024-07-04T13:47:25.270402Z",
     "iopub.status.idle": "2024-07-04T13:47:25.275224Z",
     "shell.execute_reply": "2024-07-04T13:47:25.274413Z",
     "shell.execute_reply.started": "2024-07-04T13:47:25.270884Z"
    },
    "tags": []
   },
   "outputs": [],
   "source": [
    "def search(query):\n",
    "    boost = {'question': 3.0, 'section': 0.5}\n",
    "\n",
    "    results = index.search(\n",
    "        query=query,\n",
    "        filter_dict={'course': 'data-engineering-zoomcamp'},\n",
    "        boost_dict=boost,\n",
    "        num_results=5\n",
    "    )\n",
    "    return results"
   ]
  },
  {
   "cell_type": "code",
   "execution_count": 17,
   "id": "4458a45d-4e17-477a-b162-f6487db67924",
   "metadata": {
    "execution": {
     "iopub.execute_input": "2024-07-04T14:01:31.036539Z",
     "iopub.status.busy": "2024-07-04T14:01:31.035895Z",
     "iopub.status.idle": "2024-07-04T14:01:31.553966Z",
     "shell.execute_reply": "2024-07-04T14:01:31.553365Z",
     "shell.execute_reply.started": "2024-07-04T14:01:31.036514Z"
    },
    "tags": []
   },
   "outputs": [],
   "source": [
    "from transformers import T5Tokenizer, T5ForConditionalGeneration, pipeline\n",
    "import torch"
   ]
  },
  {
   "cell_type": "markdown",
   "id": "3a694c67-a76f-4f11-bc71-bf289b46fc1a",
   "metadata": {
    "execution": {
     "iopub.execute_input": "2024-07-04T13:49:09.481967Z",
     "iopub.status.busy": "2024-07-04T13:49:09.481445Z",
     "iopub.status.idle": "2024-07-04T13:49:09.485158Z",
     "shell.execute_reply": "2024-07-04T13:49:09.484542Z",
     "shell.execute_reply.started": "2024-07-04T13:49:09.481938Z"
    },
    "tags": []
   },
   "source": [
    "#### Get FLAN-T5 model from huggingface"
   ]
  },
  {
   "cell_type": "code",
   "execution_count": 12,
   "id": "e08eeaf1-02fe-4bd5-b7e1-1c1fb30f3ea7",
   "metadata": {
    "execution": {
     "iopub.execute_input": "2024-07-04T13:49:20.440590Z",
     "iopub.status.busy": "2024-07-04T13:49:20.440201Z",
     "iopub.status.idle": "2024-07-04T13:52:00.137759Z",
     "shell.execute_reply": "2024-07-04T13:52:00.137141Z",
     "shell.execute_reply.started": "2024-07-04T13:49:20.440565Z"
    },
    "tags": []
   },
   "outputs": [
    {
     "data": {
      "application/vnd.jupyter.widget-view+json": {
       "model_id": "392348e119674a04bc57a7ca1f584df6",
       "version_major": 2,
       "version_minor": 0
      },
      "text/plain": [
       "tokenizer_config.json:   0%|          | 0.00/2.54k [00:00<?, ?B/s]"
      ]
     },
     "metadata": {},
     "output_type": "display_data"
    },
    {
     "data": {
      "application/vnd.jupyter.widget-view+json": {
       "model_id": "191ee604175c4d6fa4a238a7cbeb0325",
       "version_major": 2,
       "version_minor": 0
      },
      "text/plain": [
       "spiece.model:   0%|          | 0.00/792k [00:00<?, ?B/s]"
      ]
     },
     "metadata": {},
     "output_type": "display_data"
    },
    {
     "data": {
      "application/vnd.jupyter.widget-view+json": {
       "model_id": "a657e56c88734b24878fafc2c5ac777d",
       "version_major": 2,
       "version_minor": 0
      },
      "text/plain": [
       "special_tokens_map.json:   0%|          | 0.00/2.20k [00:00<?, ?B/s]"
      ]
     },
     "metadata": {},
     "output_type": "display_data"
    },
    {
     "data": {
      "application/vnd.jupyter.widget-view+json": {
       "model_id": "a1e4073f93c3490584ddfc4c30161b44",
       "version_major": 2,
       "version_minor": 0
      },
      "text/plain": [
       "tokenizer.json:   0%|          | 0.00/2.42M [00:00<?, ?B/s]"
      ]
     },
     "metadata": {},
     "output_type": "display_data"
    },
    {
     "name": "stderr",
     "output_type": "stream",
     "text": [
      "You are using the default legacy behaviour of the <class 'transformers.models.t5.tokenization_t5.T5Tokenizer'>. This is expected, and simply means that the `legacy` (previous) behavior will be used so nothing changes for you. If you want to use the new behaviour, set `legacy=False`. This should only be set if you understand what it means, and thoroughly read the reason why this was added as explained in https://github.com/huggingface/transformers/pull/24565\n",
      "Special tokens have been added in the vocabulary, make sure the associated word embeddings are fine-tuned or trained.\n"
     ]
    },
    {
     "data": {
      "application/vnd.jupyter.widget-view+json": {
       "model_id": "b350fbb994064c708e8f50e9d4ecc118",
       "version_major": 2,
       "version_minor": 0
      },
      "text/plain": [
       "config.json:   0%|          | 0.00/1.44k [00:00<?, ?B/s]"
      ]
     },
     "metadata": {},
     "output_type": "display_data"
    },
    {
     "data": {
      "application/vnd.jupyter.widget-view+json": {
       "model_id": "f1c83b2d679b4ebcba6c07a11f3eac94",
       "version_major": 2,
       "version_minor": 0
      },
      "text/plain": [
       "model.safetensors.index.json:   0%|          | 0.00/53.0k [00:00<?, ?B/s]"
      ]
     },
     "metadata": {},
     "output_type": "display_data"
    },
    {
     "data": {
      "application/vnd.jupyter.widget-view+json": {
       "model_id": "bf3198f1fe334d0e8d1a4da19b7e4255",
       "version_major": 2,
       "version_minor": 0
      },
      "text/plain": [
       "Downloading shards:   0%|          | 0/2 [00:00<?, ?it/s]"
      ]
     },
     "metadata": {},
     "output_type": "display_data"
    },
    {
     "data": {
      "application/vnd.jupyter.widget-view+json": {
       "model_id": "f8b561a28f4e448e939dcb7778e5a8d6",
       "version_major": 2,
       "version_minor": 0
      },
      "text/plain": [
       "model-00001-of-00002.safetensors:   0%|          | 0.00/9.45G [00:00<?, ?B/s]"
      ]
     },
     "metadata": {},
     "output_type": "display_data"
    },
    {
     "data": {
      "application/vnd.jupyter.widget-view+json": {
       "model_id": "8b5d9da0da974120b3883c60235f5556",
       "version_major": 2,
       "version_minor": 0
      },
      "text/plain": [
       "model-00002-of-00002.safetensors:   0%|          | 0.00/1.95G [00:00<?, ?B/s]"
      ]
     },
     "metadata": {},
     "output_type": "display_data"
    },
    {
     "data": {
      "application/vnd.jupyter.widget-view+json": {
       "model_id": "ab6239cf16ba47febd4c505754b3d85d",
       "version_major": 2,
       "version_minor": 0
      },
      "text/plain": [
       "Loading checkpoint shards:   0%|          | 0/2 [00:00<?, ?it/s]"
      ]
     },
     "metadata": {},
     "output_type": "display_data"
    },
    {
     "data": {
      "application/vnd.jupyter.widget-view+json": {
       "model_id": "2e617289e74144b69d24e14d0f9a1abf",
       "version_major": 2,
       "version_minor": 0
      },
      "text/plain": [
       "generation_config.json:   0%|          | 0.00/147 [00:00<?, ?B/s]"
      ]
     },
     "metadata": {},
     "output_type": "display_data"
    }
   ],
   "source": [
    "tokenizer = T5Tokenizer.from_pretrained(\"google/flan-t5-xl\")\n",
    "model = T5ForConditionalGeneration.from_pretrained(\"google/flan-t5-xl\", device_map=\"auto\")"
   ]
  },
  {
   "cell_type": "markdown",
   "id": "4257f035-ccf8-4359-be2d-55104984c3a4",
   "metadata": {
    "execution": {
     "iopub.execute_input": "2024-07-04T14:00:07.441651Z",
     "iopub.status.busy": "2024-07-04T14:00:07.441263Z",
     "iopub.status.idle": "2024-07-04T14:00:07.444816Z",
     "shell.execute_reply": "2024-07-04T14:00:07.444155Z",
     "shell.execute_reply.started": "2024-07-04T14:00:07.441626Z"
    },
    "tags": []
   },
   "source": [
    "#### Sample generation"
   ]
  },
  {
   "cell_type": "code",
   "execution_count": 93,
   "id": "fed25f29-e776-4cf2-8bf1-6b1457cf5259",
   "metadata": {
    "execution": {
     "iopub.execute_input": "2024-07-04T15:04:00.379952Z",
     "iopub.status.busy": "2024-07-04T15:04:00.379572Z",
     "iopub.status.idle": "2024-07-04T15:04:00.596223Z",
     "shell.execute_reply": "2024-07-04T15:04:00.595487Z",
     "shell.execute_reply.started": "2024-07-04T15:04:00.379926Z"
    },
    "tags": []
   },
   "outputs": [
    {
     "name": "stdout",
     "output_type": "stream",
     "text": [
      "Wie alt sind Sie?\n",
      "CPU times: user 213 ms, sys: 0 ns, total: 213 ms\n",
      "Wall time: 212 ms\n"
     ]
    }
   ],
   "source": [
    "%%time\n",
    "input_text = \"translate English to german: How old are you?\"\n",
    "input_ids = tokenizer(input_text, return_tensors=\"pt\").input_ids.to(\"cuda\")\n",
    "\n",
    "outputs = model.generate(input_ids)\n",
    "print(tokenizer.decode(outputs[0],skip_special_tokens=True))"
   ]
  },
  {
   "cell_type": "markdown",
   "id": "e022ff13-dc5d-440c-90ea-cd3ee2d9420e",
   "metadata": {
    "execution": {
     "iopub.execute_input": "2024-07-04T14:12:28.673300Z",
     "iopub.status.busy": "2024-07-04T14:12:28.672900Z",
     "iopub.status.idle": "2024-07-04T14:12:28.676739Z",
     "shell.execute_reply": "2024-07-04T14:12:28.675929Z",
     "shell.execute_reply.started": "2024-07-04T14:12:28.673275Z"
    },
    "tags": []
   },
   "source": [
    "#### Build prompt"
   ]
  },
  {
   "cell_type": "code",
   "execution_count": 94,
   "id": "90e30155-d7bf-4c58-bb1c-f711e7850034",
   "metadata": {
    "execution": {
     "iopub.execute_input": "2024-07-04T15:05:46.200670Z",
     "iopub.status.busy": "2024-07-04T15:05:46.200287Z",
     "iopub.status.idle": "2024-07-04T15:05:46.206037Z",
     "shell.execute_reply": "2024-07-04T15:05:46.205446Z",
     "shell.execute_reply.started": "2024-07-04T15:05:46.200646Z"
    },
    "tags": []
   },
   "outputs": [],
   "source": [
    "def build_prompt(query, search_results):\n",
    "    prompt_template = \"\"\"\n",
    "You're a course teaching assistant. Answer the QUESTION based on the CONTEXT from the FAQ database.\n",
    "Use only the facts from the CONTEXT when answering the QUESTION.\n",
    "\n",
    "QUESTION: {question}\n",
    "\n",
    "CONTEXT:\n",
    "{context}\n",
    "\"\"\".strip()\n",
    "\n",
    "    context = \"\"\n",
    "    \n",
    "    for doc in search_results:\n",
    "        context = context + f\"section: {doc['section']}\\nquestion: {doc['question']}\\nanswer: {doc['text']}\\n\\n\"\n",
    "    \n",
    "    prompt = prompt_template.format(question=query, context=context).strip()\n",
    "    return prompt\n",
    "\n",
    "def llm(prompt,temp):\n",
    "    config={'max_length':512,\n",
    "           'temperature':temp,\n",
    "           'do_sample':True,\n",
    "           'num_beams':1\n",
    "           }\n",
    "    \n",
    "    input_ids = tokenizer(prompt, return_tensors=\"pt\").input_ids.to(\"cuda\")\n",
    "    outputs = model.generate(input_ids, **config)\n",
    "    result = tokenizer.decode(outputs[0],skip_special_tokens=True)\n",
    "    return result"
   ]
  },
  {
   "cell_type": "markdown",
   "id": "589564cf-d7dc-48f1-81f7-6ffde09ce187",
   "metadata": {
    "execution": {
     "iopub.execute_input": "2024-07-04T15:02:11.624474Z",
     "iopub.status.busy": "2024-07-04T15:02:11.624097Z",
     "iopub.status.idle": "2024-07-04T15:02:11.627755Z",
     "shell.execute_reply": "2024-07-04T15:02:11.627011Z",
     "shell.execute_reply.started": "2024-07-04T15:02:11.624447Z"
    },
    "tags": []
   },
   "source": [
    "#### Get results and create prompt from it and generate result using llm"
   ]
  },
  {
   "cell_type": "code",
   "execution_count": 96,
   "id": "328008ee-8ea6-456b-819c-d58c39ea32d5",
   "metadata": {
    "execution": {
     "iopub.execute_input": "2024-07-04T15:06:04.045089Z",
     "iopub.status.busy": "2024-07-04T15:06:04.044718Z",
     "iopub.status.idle": "2024-07-04T15:06:04.049145Z",
     "shell.execute_reply": "2024-07-04T15:06:04.048185Z",
     "shell.execute_reply.started": "2024-07-04T15:06:04.045064Z"
    },
    "tags": []
   },
   "outputs": [],
   "source": [
    "def rag(query,temp=0.1):\n",
    "    search_results = search(query)\n",
    "    prompt = build_prompt(query, search_results)\n",
    "    answer = llm(prompt,temp)\n",
    "    return answer"
   ]
  },
  {
   "cell_type": "markdown",
   "id": "10c72a6b-e5e9-4deb-a00e-db22087103a1",
   "metadata": {
    "execution": {
     "iopub.execute_input": "2024-07-04T14:20:54.847294Z",
     "iopub.status.busy": "2024-07-04T14:20:54.846902Z",
     "iopub.status.idle": "2024-07-04T14:20:54.850680Z",
     "shell.execute_reply": "2024-07-04T14:20:54.849871Z",
     "shell.execute_reply.started": "2024-07-04T14:20:54.847269Z"
    },
    "tags": []
   },
   "source": [
    "#### The search based on the json document data"
   ]
  },
  {
   "cell_type": "markdown",
   "id": "cc51b98c-f516-4d76-89e2-cbdf45043369",
   "metadata": {
    "execution": {
     "iopub.execute_input": "2024-07-04T14:35:59.144876Z",
     "iopub.status.busy": "2024-07-04T14:35:59.144489Z",
     "iopub.status.idle": "2024-07-04T14:35:59.147976Z",
     "shell.execute_reply": "2024-07-04T14:35:59.147332Z",
     "shell.execute_reply.started": "2024-07-04T14:35:59.144851Z"
    },
    "tags": []
   },
   "source": [
    "#### Temperature 0.1"
   ]
  },
  {
   "cell_type": "code",
   "execution_count": 97,
   "id": "c3cfa326-8deb-4270-90d3-8b24f854bbfa",
   "metadata": {
    "execution": {
     "iopub.execute_input": "2024-07-04T15:06:13.125317Z",
     "iopub.status.busy": "2024-07-04T15:06:13.124922Z",
     "iopub.status.idle": "2024-07-04T15:06:15.024588Z",
     "shell.execute_reply": "2024-07-04T15:06:15.023854Z",
     "shell.execute_reply.started": "2024-07-04T15:06:13.125294Z"
    },
    "tags": []
   },
   "outputs": [
    {
     "name": "stdout",
     "output_type": "stream",
     "text": [
      "CPU times: user 1.72 s, sys: 172 ms, total: 1.89 s\n",
      "Wall time: 1.89 s\n"
     ]
    },
    {
     "data": {
      "text/plain": [
       "\"Yes, even if you don't register, you're still eligible to submit the homeworks. Be aware, however, that there will be deadlines for turning in the final projects. So don't leave everything for the last minute.\""
      ]
     },
     "execution_count": 97,
     "metadata": {},
     "output_type": "execute_result"
    }
   ],
   "source": [
    "%%time\n",
    "rag(\"I just discovered the course. Can I still enroll it?\")"
   ]
  },
  {
   "cell_type": "markdown",
   "id": "124cbedf-541d-4396-8c1a-79a3e7dedcbf",
   "metadata": {
    "execution": {
     "iopub.execute_input": "2024-07-04T14:43:12.645387Z",
     "iopub.status.busy": "2024-07-04T14:43:12.645020Z",
     "iopub.status.idle": "2024-07-04T14:43:12.648750Z",
     "shell.execute_reply": "2024-07-04T14:43:12.647972Z",
     "shell.execute_reply.started": "2024-07-04T14:43:12.645362Z"
    },
    "tags": []
   },
   "source": [
    "#### Let's try using different temperature values and examine the differences in the results."
   ]
  },
  {
   "cell_type": "code",
   "execution_count": 55,
   "id": "5ef3c273-70f4-40f9-8708-316aab1c72ca",
   "metadata": {
    "execution": {
     "iopub.execute_input": "2024-07-04T14:43:25.389785Z",
     "iopub.status.busy": "2024-07-04T14:43:25.389396Z",
     "iopub.status.idle": "2024-07-04T14:43:25.393955Z",
     "shell.execute_reply": "2024-07-04T14:43:25.393000Z",
     "shell.execute_reply.started": "2024-07-04T14:43:25.389760Z"
    },
    "tags": []
   },
   "outputs": [],
   "source": [
    "import numpy as np\n",
    "from IPython.display import display, Markdown"
   ]
  },
  {
   "cell_type": "code",
   "execution_count": 98,
   "id": "4b14908d-55df-4c5e-a52e-9b0210d475eb",
   "metadata": {
    "execution": {
     "iopub.execute_input": "2024-07-04T15:06:35.965036Z",
     "iopub.status.busy": "2024-07-04T15:06:35.964664Z",
     "iopub.status.idle": "2024-07-04T15:06:52.376443Z",
     "shell.execute_reply": "2024-07-04T15:06:52.375715Z",
     "shell.execute_reply.started": "2024-07-04T15:06:35.965009Z"
    },
    "tags": []
   },
   "outputs": [
    {
     "data": {
      "text/markdown": [
       "### Temperature: 0.2"
      ],
      "text/plain": [
       "<IPython.core.display.Markdown object>"
      ]
     },
     "metadata": {},
     "output_type": "display_data"
    },
    {
     "data": {
      "text/markdown": [
       "Result: Yes, even if you don't register, you're still eligible to submit the homeworks. Be aware, however, that there will be deadlines for turning in the final projects. So don't leave everything for the last minute."
      ],
      "text/plain": [
       "<IPython.core.display.Markdown object>"
      ]
     },
     "metadata": {},
     "output_type": "display_data"
    },
    {
     "name": "stdout",
     "output_type": "stream",
     "text": [
      "----------------------------------------------------------------------------------------------------\n"
     ]
    },
    {
     "data": {
      "text/markdown": [
       "### Temperature: 0.3"
      ],
      "text/plain": [
       "<IPython.core.display.Markdown object>"
      ]
     },
     "metadata": {},
     "output_type": "display_data"
    },
    {
     "data": {
      "text/markdown": [
       "Result: Yes, even if you don't register, you're still eligible to submit the homeworks. Be aware, however, that there will be deadlines for turning in the final projects. So don't leave everything for the last minute."
      ],
      "text/plain": [
       "<IPython.core.display.Markdown object>"
      ]
     },
     "metadata": {},
     "output_type": "display_data"
    },
    {
     "name": "stdout",
     "output_type": "stream",
     "text": [
      "----------------------------------------------------------------------------------------------------\n"
     ]
    },
    {
     "data": {
      "text/markdown": [
       "### Temperature: 0.4"
      ],
      "text/plain": [
       "<IPython.core.display.Markdown object>"
      ]
     },
     "metadata": {},
     "output_type": "display_data"
    },
    {
     "data": {
      "text/markdown": [
       "Result: Yes, even if you don't register, you're still eligible to submit the homeworks. Be aware, however, that there will be deadlines for turning in the final projects. So don't leave everything for the last minute."
      ],
      "text/plain": [
       "<IPython.core.display.Markdown object>"
      ]
     },
     "metadata": {},
     "output_type": "display_data"
    },
    {
     "name": "stdout",
     "output_type": "stream",
     "text": [
      "----------------------------------------------------------------------------------------------------\n"
     ]
    },
    {
     "data": {
      "text/markdown": [
       "### Temperature: 0.5"
      ],
      "text/plain": [
       "<IPython.core.display.Markdown object>"
      ]
     },
     "metadata": {},
     "output_type": "display_data"
    },
    {
     "data": {
      "text/markdown": [
       "Result: Yes, even if you don't register, you're still eligible to submit the homeworks. Be aware, however, that there will be deadlines for turning in the final projects. So don't leave everything for the last minute."
      ],
      "text/plain": [
       "<IPython.core.display.Markdown object>"
      ]
     },
     "metadata": {},
     "output_type": "display_data"
    },
    {
     "name": "stdout",
     "output_type": "stream",
     "text": [
      "----------------------------------------------------------------------------------------------------\n"
     ]
    },
    {
     "data": {
      "text/markdown": [
       "### Temperature: 0.6"
      ],
      "text/plain": [
       "<IPython.core.display.Markdown object>"
      ]
     },
     "metadata": {},
     "output_type": "display_data"
    },
    {
     "data": {
      "text/markdown": [
       "Result: Yes, even if you don't register, you're still eligible to submit the homeworks. Be aware, however, that there will be deadlines for turning in the final projects. So don't leave everything for the last minute."
      ],
      "text/plain": [
       "<IPython.core.display.Markdown object>"
      ]
     },
     "metadata": {},
     "output_type": "display_data"
    },
    {
     "name": "stdout",
     "output_type": "stream",
     "text": [
      "----------------------------------------------------------------------------------------------------\n"
     ]
    },
    {
     "data": {
      "text/markdown": [
       "### Temperature: 0.7"
      ],
      "text/plain": [
       "<IPython.core.display.Markdown object>"
      ]
     },
     "metadata": {},
     "output_type": "display_data"
    },
    {
     "data": {
      "text/markdown": [
       "Result: Yes, even if you don't register, you're still eligible to submit the homeworks. Be aware, however, that there will be deadlines for turning in the final projects. So don't leave everything for the last minute."
      ],
      "text/plain": [
       "<IPython.core.display.Markdown object>"
      ]
     },
     "metadata": {},
     "output_type": "display_data"
    },
    {
     "name": "stdout",
     "output_type": "stream",
     "text": [
      "----------------------------------------------------------------------------------------------------\n"
     ]
    },
    {
     "data": {
      "text/markdown": [
       "### Temperature: 0.8"
      ],
      "text/plain": [
       "<IPython.core.display.Markdown object>"
      ]
     },
     "metadata": {},
     "output_type": "display_data"
    },
    {
     "data": {
      "text/markdown": [
       "Result: Yes, even if you don't register, you're still eligible to submit the homeworks. Be aware, however, that there will be deadlines for turning in the final projects. So don't leave everything for the last minute."
      ],
      "text/plain": [
       "<IPython.core.display.Markdown object>"
      ]
     },
     "metadata": {},
     "output_type": "display_data"
    },
    {
     "name": "stdout",
     "output_type": "stream",
     "text": [
      "----------------------------------------------------------------------------------------------------\n"
     ]
    },
    {
     "data": {
      "text/markdown": [
       "### Temperature: 0.9"
      ],
      "text/plain": [
       "<IPython.core.display.Markdown object>"
      ]
     },
     "metadata": {},
     "output_type": "display_data"
    },
    {
     "data": {
      "text/markdown": [
       "Result: Yes, even if you don't register, you're still eligible to submit the homeworks. Be aware, however, that there will be deadlines for turning in the final projects. So don't leave everything for the last minute."
      ],
      "text/plain": [
       "<IPython.core.display.Markdown object>"
      ]
     },
     "metadata": {},
     "output_type": "display_data"
    },
    {
     "name": "stdout",
     "output_type": "stream",
     "text": [
      "----------------------------------------------------------------------------------------------------\n"
     ]
    },
    {
     "data": {
      "text/markdown": [
       "### Temperature: 1.0"
      ],
      "text/plain": [
       "<IPython.core.display.Markdown object>"
      ]
     },
     "metadata": {},
     "output_type": "display_data"
    },
    {
     "data": {
      "text/markdown": [
       "Result: Yes, even if you don't register, you're still eligible to submit the homeworks."
      ],
      "text/plain": [
       "<IPython.core.display.Markdown object>"
      ]
     },
     "metadata": {},
     "output_type": "display_data"
    },
    {
     "name": "stdout",
     "output_type": "stream",
     "text": [
      "----------------------------------------------------------------------------------------------------\n",
      "CPU times: user 15.1 s, sys: 1.32 s, total: 16.4 s\n",
      "Wall time: 16.4 s\n"
     ]
    }
   ],
   "source": [
    "%%time\n",
    "for temp in np.round(np.linspace(0.2,1.0,9),1):\n",
    "    display(Markdown(f\"### Temperature: {temp}\"))\n",
    "    result=rag('I just discovered the course. Can I still enroll it?',temp)\n",
    "    display(Markdown(f\"Result: {result}\"))\n",
    "    print(\"-\"*100)"
   ]
  }
 ],
 "metadata": {
  "kernelspec": {
   "display_name": "saturn (Python 3)",
   "language": "python",
   "name": "python3"
  },
  "language_info": {
   "codemirror_mode": {
    "name": "ipython",
    "version": 3
   },
   "file_extension": ".py",
   "mimetype": "text/x-python",
   "name": "python",
   "nbconvert_exporter": "python",
   "pygments_lexer": "ipython3",
   "version": "3.9.18"
  }
 },
 "nbformat": 4,
 "nbformat_minor": 5
}
